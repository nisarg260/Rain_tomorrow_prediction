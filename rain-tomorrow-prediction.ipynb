{
 "cells": [
  {
   "cell_type": "markdown",
   "id": "single-typing",
   "metadata": {
    "papermill": {
     "duration": 0.02621,
     "end_time": "2021-04-02T11:45:17.906597",
     "exception": false,
     "start_time": "2021-04-02T11:45:17.880387",
     "status": "completed"
    },
    "tags": []
   },
   "source": [
    "# Tomorrow Rain Prediction in Australia \n",
    "\n"
   ]
  },
  {
   "cell_type": "markdown",
   "id": "structural-radar",
   "metadata": {
    "papermill": {
     "duration": 0.02492,
     "end_time": "2021-04-02T11:45:17.956809",
     "exception": false,
     "start_time": "2021-04-02T11:45:17.931889",
     "status": "completed"
    },
    "tags": []
   },
   "source": [
    "<img src = \"https://www.skymetweather.com/content/wp-content/uploads/2020/01/RaininJanuary.jpg\" height=500 width=500 style=\"margin : auto;\">"
   ]
  },
  {
   "cell_type": "markdown",
   "id": "sealed-pearl",
   "metadata": {
    "papermill": {
     "duration": 0.026046,
     "end_time": "2021-04-02T11:45:18.008782",
     "exception": false,
     "start_time": "2021-04-02T11:45:17.982736",
     "status": "completed"
    },
    "tags": []
   },
   "source": [
    "> ## About "
   ]
  },
  {
   "cell_type": "markdown",
   "id": "traditional-guinea",
   "metadata": {
    "papermill": {
     "duration": 0.025496,
     "end_time": "2021-04-02T11:45:18.059475",
     "exception": false,
     "start_time": "2021-04-02T11:45:18.033979",
     "status": "completed"
    },
    "tags": []
   },
   "source": [
    "> 1. **Supervised classification Problem**\n",
    "> 2. **Use KNeighborsClassifier Algorithm**\n",
    "> 3. **Use ExtraTreesClassifier for feature Selection**\n",
    "> 4. **Accuracy of model = 84%**"
   ]
  },
  {
   "cell_type": "code",
   "execution_count": 1,
   "id": "conscious-young",
   "metadata": {
    "_cell_guid": "b1076dfc-b9ad-4769-8c92-a6c4dae69d19",
    "_uuid": "8f2839f25d086af736a60e9eeb907d3b93b6e0e5",
    "execution": {
     "iopub.execute_input": "2021-04-02T11:45:18.116789Z",
     "iopub.status.busy": "2021-04-02T11:45:18.113902Z",
     "iopub.status.idle": "2021-04-02T11:45:18.126665Z",
     "shell.execute_reply": "2021-04-02T11:45:18.127278Z"
    },
    "papermill": {
     "duration": 0.043036,
     "end_time": "2021-04-02T11:45:18.127565",
     "exception": false,
     "start_time": "2021-04-02T11:45:18.084529",
     "status": "completed"
    },
    "tags": []
   },
   "outputs": [
    {
     "name": "stdout",
     "output_type": "stream",
     "text": [
      "/kaggle/input/weather-dataset-rattle-package/weatherAUS.csv\n"
     ]
    }
   ],
   "source": [
    "# This Python 3 environment comes with many helpful analytics libraries installed\n",
    "# It is defined by the kaggle/python Docker image: https://github.com/kaggle/docker-python\n",
    "# For example, here's several helpful packages to load\n",
    "\n",
    "import numpy as np # linear algebra\n",
    "import pandas as pd # data processing, CSV file I/O (e.g. pd.read_csv)\n",
    "\n",
    "# Input data files are available in the read-only \"../input/\" directory\n",
    "# For example, running this (by clicking run or pressing Shift+Enter) will list all files under the input directory\n",
    "\n",
    "import os\n",
    "for dirname, _, filenames in os.walk('/kaggle/input'):\n",
    "    for filename in filenames:\n",
    "        print(os.path.join(dirname, filename))\n",
    "\n",
    "# You can write up to 20GB to the current directory (/kaggle/working/) that gets preserved as output when you create a version using \"Save & Run All\" \n",
    "# You can also write temporary files to /kaggle/temp/, but they won't be saved outside of the current session"
   ]
  },
  {
   "cell_type": "markdown",
   "id": "naughty-market",
   "metadata": {
    "papermill": {
     "duration": 0.025905,
     "end_time": "2021-04-02T11:45:18.179458",
     "exception": false,
     "start_time": "2021-04-02T11:45:18.153553",
     "status": "completed"
    },
    "tags": []
   },
   "source": [
    "> ## Import Libararies"
   ]
  },
  {
   "cell_type": "code",
   "execution_count": 2,
   "id": "mental-hotel",
   "metadata": {
    "execution": {
     "iopub.execute_input": "2021-04-02T11:45:18.234205Z",
     "iopub.status.busy": "2021-04-02T11:45:18.233482Z",
     "iopub.status.idle": "2021-04-02T11:45:20.001899Z",
     "shell.execute_reply": "2021-04-02T11:45:20.002459Z"
    },
    "papermill": {
     "duration": 1.79774,
     "end_time": "2021-04-02T11:45:20.002649",
     "exception": false,
     "start_time": "2021-04-02T11:45:18.204909",
     "status": "completed"
    },
    "tags": []
   },
   "outputs": [],
   "source": [
    "import numpy as np\n",
    "import pandas as pd\n",
    "import matplotlib.pyplot as plt\n",
    "import seaborn as sns\n",
    "%matplotlib inline\n",
    "from sklearn.ensemble import ExtraTreesClassifier\n",
    "from sklearn.model_selection import train_test_split\n",
    "from sklearn.neighbors import KNeighborsClassifier\n",
    "from sklearn.metrics import accuracy_score"
   ]
  },
  {
   "cell_type": "markdown",
   "id": "early-premium",
   "metadata": {
    "papermill": {
     "duration": 0.028038,
     "end_time": "2021-04-02T11:45:20.057625",
     "exception": false,
     "start_time": "2021-04-02T11:45:20.029587",
     "status": "completed"
    },
    "tags": []
   },
   "source": [
    "> ## Read Data"
   ]
  },
  {
   "cell_type": "code",
   "execution_count": 3,
   "id": "annual-symbol",
   "metadata": {
    "execution": {
     "iopub.execute_input": "2021-04-02T11:45:20.115654Z",
     "iopub.status.busy": "2021-04-02T11:45:20.114965Z",
     "iopub.status.idle": "2021-04-02T11:45:20.916334Z",
     "shell.execute_reply": "2021-04-02T11:45:20.915735Z"
    },
    "papermill": {
     "duration": 0.832766,
     "end_time": "2021-04-02T11:45:20.916483",
     "exception": false,
     "start_time": "2021-04-02T11:45:20.083717",
     "status": "completed"
    },
    "tags": []
   },
   "outputs": [
    {
     "data": {
      "text/html": [
       "<div>\n",
       "<style scoped>\n",
       "    .dataframe tbody tr th:only-of-type {\n",
       "        vertical-align: middle;\n",
       "    }\n",
       "\n",
       "    .dataframe tbody tr th {\n",
       "        vertical-align: top;\n",
       "    }\n",
       "\n",
       "    .dataframe thead th {\n",
       "        text-align: right;\n",
       "    }\n",
       "</style>\n",
       "<table border=\"1\" class=\"dataframe\">\n",
       "  <thead>\n",
       "    <tr style=\"text-align: right;\">\n",
       "      <th></th>\n",
       "      <th>Date</th>\n",
       "      <th>Location</th>\n",
       "      <th>MinTemp</th>\n",
       "      <th>MaxTemp</th>\n",
       "      <th>Rainfall</th>\n",
       "      <th>Evaporation</th>\n",
       "      <th>Sunshine</th>\n",
       "      <th>WindGustDir</th>\n",
       "      <th>WindGustSpeed</th>\n",
       "      <th>WindDir9am</th>\n",
       "      <th>...</th>\n",
       "      <th>Humidity9am</th>\n",
       "      <th>Humidity3pm</th>\n",
       "      <th>Pressure9am</th>\n",
       "      <th>Pressure3pm</th>\n",
       "      <th>Cloud9am</th>\n",
       "      <th>Cloud3pm</th>\n",
       "      <th>Temp9am</th>\n",
       "      <th>Temp3pm</th>\n",
       "      <th>RainToday</th>\n",
       "      <th>RainTomorrow</th>\n",
       "    </tr>\n",
       "  </thead>\n",
       "  <tbody>\n",
       "    <tr>\n",
       "      <th>0</th>\n",
       "      <td>2008-12-01</td>\n",
       "      <td>Albury</td>\n",
       "      <td>13.4</td>\n",
       "      <td>22.9</td>\n",
       "      <td>0.6</td>\n",
       "      <td>NaN</td>\n",
       "      <td>NaN</td>\n",
       "      <td>W</td>\n",
       "      <td>44.0</td>\n",
       "      <td>W</td>\n",
       "      <td>...</td>\n",
       "      <td>71.0</td>\n",
       "      <td>22.0</td>\n",
       "      <td>1007.7</td>\n",
       "      <td>1007.1</td>\n",
       "      <td>8.0</td>\n",
       "      <td>NaN</td>\n",
       "      <td>16.9</td>\n",
       "      <td>21.8</td>\n",
       "      <td>No</td>\n",
       "      <td>No</td>\n",
       "    </tr>\n",
       "    <tr>\n",
       "      <th>1</th>\n",
       "      <td>2008-12-02</td>\n",
       "      <td>Albury</td>\n",
       "      <td>7.4</td>\n",
       "      <td>25.1</td>\n",
       "      <td>0.0</td>\n",
       "      <td>NaN</td>\n",
       "      <td>NaN</td>\n",
       "      <td>WNW</td>\n",
       "      <td>44.0</td>\n",
       "      <td>NNW</td>\n",
       "      <td>...</td>\n",
       "      <td>44.0</td>\n",
       "      <td>25.0</td>\n",
       "      <td>1010.6</td>\n",
       "      <td>1007.8</td>\n",
       "      <td>NaN</td>\n",
       "      <td>NaN</td>\n",
       "      <td>17.2</td>\n",
       "      <td>24.3</td>\n",
       "      <td>No</td>\n",
       "      <td>No</td>\n",
       "    </tr>\n",
       "    <tr>\n",
       "      <th>2</th>\n",
       "      <td>2008-12-03</td>\n",
       "      <td>Albury</td>\n",
       "      <td>12.9</td>\n",
       "      <td>25.7</td>\n",
       "      <td>0.0</td>\n",
       "      <td>NaN</td>\n",
       "      <td>NaN</td>\n",
       "      <td>WSW</td>\n",
       "      <td>46.0</td>\n",
       "      <td>W</td>\n",
       "      <td>...</td>\n",
       "      <td>38.0</td>\n",
       "      <td>30.0</td>\n",
       "      <td>1007.6</td>\n",
       "      <td>1008.7</td>\n",
       "      <td>NaN</td>\n",
       "      <td>2.0</td>\n",
       "      <td>21.0</td>\n",
       "      <td>23.2</td>\n",
       "      <td>No</td>\n",
       "      <td>No</td>\n",
       "    </tr>\n",
       "    <tr>\n",
       "      <th>3</th>\n",
       "      <td>2008-12-04</td>\n",
       "      <td>Albury</td>\n",
       "      <td>9.2</td>\n",
       "      <td>28.0</td>\n",
       "      <td>0.0</td>\n",
       "      <td>NaN</td>\n",
       "      <td>NaN</td>\n",
       "      <td>NE</td>\n",
       "      <td>24.0</td>\n",
       "      <td>SE</td>\n",
       "      <td>...</td>\n",
       "      <td>45.0</td>\n",
       "      <td>16.0</td>\n",
       "      <td>1017.6</td>\n",
       "      <td>1012.8</td>\n",
       "      <td>NaN</td>\n",
       "      <td>NaN</td>\n",
       "      <td>18.1</td>\n",
       "      <td>26.5</td>\n",
       "      <td>No</td>\n",
       "      <td>No</td>\n",
       "    </tr>\n",
       "    <tr>\n",
       "      <th>4</th>\n",
       "      <td>2008-12-05</td>\n",
       "      <td>Albury</td>\n",
       "      <td>17.5</td>\n",
       "      <td>32.3</td>\n",
       "      <td>1.0</td>\n",
       "      <td>NaN</td>\n",
       "      <td>NaN</td>\n",
       "      <td>W</td>\n",
       "      <td>41.0</td>\n",
       "      <td>ENE</td>\n",
       "      <td>...</td>\n",
       "      <td>82.0</td>\n",
       "      <td>33.0</td>\n",
       "      <td>1010.8</td>\n",
       "      <td>1006.0</td>\n",
       "      <td>7.0</td>\n",
       "      <td>8.0</td>\n",
       "      <td>17.8</td>\n",
       "      <td>29.7</td>\n",
       "      <td>No</td>\n",
       "      <td>No</td>\n",
       "    </tr>\n",
       "  </tbody>\n",
       "</table>\n",
       "<p>5 rows × 23 columns</p>\n",
       "</div>"
      ],
      "text/plain": [
       "         Date Location  MinTemp  MaxTemp  Rainfall  Evaporation  Sunshine  \\\n",
       "0  2008-12-01   Albury     13.4     22.9       0.6          NaN       NaN   \n",
       "1  2008-12-02   Albury      7.4     25.1       0.0          NaN       NaN   \n",
       "2  2008-12-03   Albury     12.9     25.7       0.0          NaN       NaN   \n",
       "3  2008-12-04   Albury      9.2     28.0       0.0          NaN       NaN   \n",
       "4  2008-12-05   Albury     17.5     32.3       1.0          NaN       NaN   \n",
       "\n",
       "  WindGustDir  WindGustSpeed WindDir9am  ... Humidity9am  Humidity3pm  \\\n",
       "0           W           44.0          W  ...        71.0         22.0   \n",
       "1         WNW           44.0        NNW  ...        44.0         25.0   \n",
       "2         WSW           46.0          W  ...        38.0         30.0   \n",
       "3          NE           24.0         SE  ...        45.0         16.0   \n",
       "4           W           41.0        ENE  ...        82.0         33.0   \n",
       "\n",
       "   Pressure9am  Pressure3pm  Cloud9am  Cloud3pm  Temp9am  Temp3pm  RainToday  \\\n",
       "0       1007.7       1007.1       8.0       NaN     16.9     21.8         No   \n",
       "1       1010.6       1007.8       NaN       NaN     17.2     24.3         No   \n",
       "2       1007.6       1008.7       NaN       2.0     21.0     23.2         No   \n",
       "3       1017.6       1012.8       NaN       NaN     18.1     26.5         No   \n",
       "4       1010.8       1006.0       7.0       8.0     17.8     29.7         No   \n",
       "\n",
       "   RainTomorrow  \n",
       "0            No  \n",
       "1            No  \n",
       "2            No  \n",
       "3            No  \n",
       "4            No  \n",
       "\n",
       "[5 rows x 23 columns]"
      ]
     },
     "execution_count": 3,
     "metadata": {},
     "output_type": "execute_result"
    }
   ],
   "source": [
    "df = pd.read_csv(\"../input/weather-dataset-rattle-package/weatherAUS.csv\")\n",
    "df.head()"
   ]
  },
  {
   "cell_type": "markdown",
   "id": "fitted-spice",
   "metadata": {
    "papermill": {
     "duration": 0.026596,
     "end_time": "2021-04-02T11:45:20.969710",
     "exception": false,
     "start_time": "2021-04-02T11:45:20.943114",
     "status": "completed"
    },
    "tags": []
   },
   "source": [
    "> **Translate column names in lower latter for easy to use**"
   ]
  },
  {
   "cell_type": "code",
   "execution_count": 4,
   "id": "broad-broadcasting",
   "metadata": {
    "execution": {
     "iopub.execute_input": "2021-04-02T11:45:21.031566Z",
     "iopub.status.busy": "2021-04-02T11:45:21.030157Z",
     "iopub.status.idle": "2021-04-02T11:45:21.032309Z",
     "shell.execute_reply": "2021-04-02T11:45:21.032815Z"
    },
    "papermill": {
     "duration": 0.036017,
     "end_time": "2021-04-02T11:45:21.032997",
     "exception": false,
     "start_time": "2021-04-02T11:45:20.996980",
     "status": "completed"
    },
    "tags": []
   },
   "outputs": [],
   "source": [
    "l_columns = [x.lower() for x in df.columns]\n",
    "df.columns = l_columns"
   ]
  },
  {
   "cell_type": "markdown",
   "id": "sophisticated-jonathan",
   "metadata": {
    "papermill": {
     "duration": 0.026214,
     "end_time": "2021-04-02T11:45:21.085957",
     "exception": false,
     "start_time": "2021-04-02T11:45:21.059743",
     "status": "completed"
    },
    "tags": []
   },
   "source": [
    "> ## Handle Null Values\n"
   ]
  },
  {
   "cell_type": "code",
   "execution_count": 5,
   "id": "prostate-transport",
   "metadata": {
    "execution": {
     "iopub.execute_input": "2021-04-02T11:45:21.162142Z",
     "iopub.status.busy": "2021-04-02T11:45:21.161367Z",
     "iopub.status.idle": "2021-04-02T11:45:21.274949Z",
     "shell.execute_reply": "2021-04-02T11:45:21.274343Z"
    },
    "papermill": {
     "duration": 0.161253,
     "end_time": "2021-04-02T11:45:21.275112",
     "exception": false,
     "start_time": "2021-04-02T11:45:21.113859",
     "status": "completed"
    },
    "tags": []
   },
   "outputs": [
    {
     "data": {
      "text/html": [
       "<div>\n",
       "<style scoped>\n",
       "    .dataframe tbody tr th:only-of-type {\n",
       "        vertical-align: middle;\n",
       "    }\n",
       "\n",
       "    .dataframe tbody tr th {\n",
       "        vertical-align: top;\n",
       "    }\n",
       "\n",
       "    .dataframe thead th {\n",
       "        text-align: right;\n",
       "    }\n",
       "</style>\n",
       "<table border=\"1\" class=\"dataframe\">\n",
       "  <thead>\n",
       "    <tr style=\"text-align: right;\">\n",
       "      <th></th>\n",
       "      <th>col_name</th>\n",
       "      <th>null_per</th>\n",
       "    </tr>\n",
       "  </thead>\n",
       "  <tbody>\n",
       "    <tr>\n",
       "      <th>6</th>\n",
       "      <td>sunshine</td>\n",
       "      <td>0.480098</td>\n",
       "    </tr>\n",
       "    <tr>\n",
       "      <th>5</th>\n",
       "      <td>evaporation</td>\n",
       "      <td>0.431665</td>\n",
       "    </tr>\n",
       "    <tr>\n",
       "      <th>18</th>\n",
       "      <td>cloud3pm</td>\n",
       "      <td>0.408071</td>\n",
       "    </tr>\n",
       "    <tr>\n",
       "      <th>17</th>\n",
       "      <td>cloud9am</td>\n",
       "      <td>0.384216</td>\n",
       "    </tr>\n",
       "    <tr>\n",
       "      <th>15</th>\n",
       "      <td>pressure9am</td>\n",
       "      <td>0.103568</td>\n",
       "    </tr>\n",
       "    <tr>\n",
       "      <th>16</th>\n",
       "      <td>pressure3pm</td>\n",
       "      <td>0.103314</td>\n",
       "    </tr>\n",
       "    <tr>\n",
       "      <th>9</th>\n",
       "      <td>winddir9am</td>\n",
       "      <td>0.072639</td>\n",
       "    </tr>\n",
       "    <tr>\n",
       "      <th>7</th>\n",
       "      <td>windgustdir</td>\n",
       "      <td>0.070989</td>\n",
       "    </tr>\n",
       "    <tr>\n",
       "      <th>8</th>\n",
       "      <td>windgustspeed</td>\n",
       "      <td>0.070555</td>\n",
       "    </tr>\n",
       "    <tr>\n",
       "      <th>14</th>\n",
       "      <td>humidity3pm</td>\n",
       "      <td>0.030984</td>\n",
       "    </tr>\n",
       "    <tr>\n",
       "      <th>10</th>\n",
       "      <td>winddir3pm</td>\n",
       "      <td>0.029066</td>\n",
       "    </tr>\n",
       "    <tr>\n",
       "      <th>20</th>\n",
       "      <td>temp3pm</td>\n",
       "      <td>0.024811</td>\n",
       "    </tr>\n",
       "    <tr>\n",
       "      <th>22</th>\n",
       "      <td>raintomorrow</td>\n",
       "      <td>0.022460</td>\n",
       "    </tr>\n",
       "    <tr>\n",
       "      <th>4</th>\n",
       "      <td>rainfall</td>\n",
       "      <td>0.022419</td>\n",
       "    </tr>\n",
       "    <tr>\n",
       "      <th>21</th>\n",
       "      <td>raintoday</td>\n",
       "      <td>0.022419</td>\n",
       "    </tr>\n",
       "    <tr>\n",
       "      <th>12</th>\n",
       "      <td>windspeed3pm</td>\n",
       "      <td>0.021050</td>\n",
       "    </tr>\n",
       "    <tr>\n",
       "      <th>13</th>\n",
       "      <td>humidity9am</td>\n",
       "      <td>0.018246</td>\n",
       "    </tr>\n",
       "    <tr>\n",
       "      <th>19</th>\n",
       "      <td>temp9am</td>\n",
       "      <td>0.012148</td>\n",
       "    </tr>\n",
       "    <tr>\n",
       "      <th>11</th>\n",
       "      <td>windspeed9am</td>\n",
       "      <td>0.012148</td>\n",
       "    </tr>\n",
       "    <tr>\n",
       "      <th>2</th>\n",
       "      <td>mintemp</td>\n",
       "      <td>0.010209</td>\n",
       "    </tr>\n",
       "    <tr>\n",
       "      <th>3</th>\n",
       "      <td>maxtemp</td>\n",
       "      <td>0.008669</td>\n",
       "    </tr>\n",
       "    <tr>\n",
       "      <th>1</th>\n",
       "      <td>location</td>\n",
       "      <td>0.000000</td>\n",
       "    </tr>\n",
       "    <tr>\n",
       "      <th>0</th>\n",
       "      <td>date</td>\n",
       "      <td>0.000000</td>\n",
       "    </tr>\n",
       "  </tbody>\n",
       "</table>\n",
       "</div>"
      ],
      "text/plain": [
       "         col_name  null_per\n",
       "6        sunshine  0.480098\n",
       "5     evaporation  0.431665\n",
       "18       cloud3pm  0.408071\n",
       "17       cloud9am  0.384216\n",
       "15    pressure9am  0.103568\n",
       "16    pressure3pm  0.103314\n",
       "9      winddir9am  0.072639\n",
       "7     windgustdir  0.070989\n",
       "8   windgustspeed  0.070555\n",
       "14    humidity3pm  0.030984\n",
       "10     winddir3pm  0.029066\n",
       "20        temp3pm  0.024811\n",
       "22   raintomorrow  0.022460\n",
       "4        rainfall  0.022419\n",
       "21      raintoday  0.022419\n",
       "12   windspeed3pm  0.021050\n",
       "13    humidity9am  0.018246\n",
       "19        temp9am  0.012148\n",
       "11   windspeed9am  0.012148\n",
       "2         mintemp  0.010209\n",
       "3         maxtemp  0.008669\n",
       "1        location  0.000000\n",
       "0            date  0.000000"
      ]
     },
     "execution_count": 5,
     "metadata": {},
     "output_type": "execute_result"
    }
   ],
   "source": [
    "name = []\n",
    "null = []\n",
    "for i in df.columns:\n",
    "    name.append(i)\n",
    "    null.append(df[i].isnull().sum() / len(df))\n",
    "    \n",
    "null_desc = pd.DataFrame({\"col_name\" : name, \"null_per\": null})\n",
    "null_desc.sort_values(by=\"null_per\", ascending=False)"
   ]
  },
  {
   "cell_type": "markdown",
   "id": "skilled-ending",
   "metadata": {
    "papermill": {
     "duration": 0.026802,
     "end_time": "2021-04-02T11:45:21.329369",
     "exception": false,
     "start_time": "2021-04-02T11:45:21.302567",
     "status": "completed"
    },
    "tags": []
   },
   "source": [
    "> **Drop Columns which have null values more than 20%**"
   ]
  },
  {
   "cell_type": "code",
   "execution_count": 6,
   "id": "afraid-yahoo",
   "metadata": {
    "execution": {
     "iopub.execute_input": "2021-04-02T11:45:21.390981Z",
     "iopub.status.busy": "2021-04-02T11:45:21.390204Z",
     "iopub.status.idle": "2021-04-02T11:45:21.474776Z",
     "shell.execute_reply": "2021-04-02T11:45:21.473841Z"
    },
    "papermill": {
     "duration": 0.118125,
     "end_time": "2021-04-02T11:45:21.474950",
     "exception": false,
     "start_time": "2021-04-02T11:45:21.356825",
     "status": "completed"
    },
    "tags": []
   },
   "outputs": [],
   "source": [
    "drop_col = null_desc[null_desc.null_per > 0.20].col_name.values\n",
    "df.drop(drop_col, axis = 1, inplace=True)"
   ]
  },
  {
   "cell_type": "markdown",
   "id": "linear-category",
   "metadata": {
    "papermill": {
     "duration": 0.02779,
     "end_time": "2021-04-02T11:45:21.530239",
     "exception": false,
     "start_time": "2021-04-02T11:45:21.502449",
     "status": "completed"
    },
    "tags": []
   },
   "source": [
    "> **Split data into two types categorical and numeric**"
   ]
  },
  {
   "cell_type": "code",
   "execution_count": 7,
   "id": "nearby-democrat",
   "metadata": {
    "execution": {
     "iopub.execute_input": "2021-04-02T11:45:21.592695Z",
     "iopub.status.busy": "2021-04-02T11:45:21.591611Z",
     "iopub.status.idle": "2021-04-02T11:45:21.595271Z",
     "shell.execute_reply": "2021-04-02T11:45:21.594723Z"
    },
    "papermill": {
     "duration": 0.037689,
     "end_time": "2021-04-02T11:45:21.595413",
     "exception": false,
     "start_time": "2021-04-02T11:45:21.557724",
     "status": "completed"
    },
    "tags": []
   },
   "outputs": [],
   "source": [
    "catogrical = [x for x in df.columns if df[x].dtype == \"object\"]\n",
    "numeric = [x for x in df.columns if df[x].dtype == \"float64\"]"
   ]
  },
  {
   "cell_type": "code",
   "execution_count": 8,
   "id": "falling-portsmouth",
   "metadata": {
    "execution": {
     "iopub.execute_input": "2021-04-02T11:45:21.654863Z",
     "iopub.status.busy": "2021-04-02T11:45:21.654126Z",
     "iopub.status.idle": "2021-04-02T11:45:21.775218Z",
     "shell.execute_reply": "2021-04-02T11:45:21.774464Z"
    },
    "papermill": {
     "duration": 0.152385,
     "end_time": "2021-04-02T11:45:21.775378",
     "exception": false,
     "start_time": "2021-04-02T11:45:21.622993",
     "status": "completed"
    },
    "tags": []
   },
   "outputs": [
    {
     "data": {
      "text/plain": [
       "date                0\n",
       "location            0\n",
       "windgustdir     10326\n",
       "winddir9am      10566\n",
       "winddir3pm       4228\n",
       "raintoday        3261\n",
       "raintomorrow     3267\n",
       "dtype: int64"
      ]
     },
     "execution_count": 8,
     "metadata": {},
     "output_type": "execute_result"
    }
   ],
   "source": [
    "df[catogrical].isnull().sum()"
   ]
  },
  {
   "cell_type": "markdown",
   "id": "unknown-dakota",
   "metadata": {
    "papermill": {
     "duration": 0.027808,
     "end_time": "2021-04-02T11:45:21.831960",
     "exception": false,
     "start_time": "2021-04-02T11:45:21.804152",
     "status": "completed"
    },
    "tags": []
   },
   "source": [
    "> **Fill Null values in categorical features with more frequent values**"
   ]
  },
  {
   "cell_type": "code",
   "execution_count": 9,
   "id": "floral-philippines",
   "metadata": {
    "execution": {
     "iopub.execute_input": "2021-04-02T11:45:21.922173Z",
     "iopub.status.busy": "2021-04-02T11:45:21.921278Z",
     "iopub.status.idle": "2021-04-02T11:45:22.153914Z",
     "shell.execute_reply": "2021-04-02T11:45:22.153163Z"
    },
    "papermill": {
     "duration": 0.293077,
     "end_time": "2021-04-02T11:45:22.154076",
     "exception": false,
     "start_time": "2021-04-02T11:45:21.860999",
     "status": "completed"
    },
    "tags": []
   },
   "outputs": [],
   "source": [
    "for i in catogrical:\n",
    "    df[i].fillna(df[i].mode()[0], inplace=True)"
   ]
  },
  {
   "cell_type": "markdown",
   "id": "korean-morning",
   "metadata": {
    "papermill": {
     "duration": 0.030493,
     "end_time": "2021-04-02T11:45:22.215389",
     "exception": false,
     "start_time": "2021-04-02T11:45:22.184896",
     "status": "completed"
    },
    "tags": []
   },
   "source": [
    "> **Fill Null values in numeric features with mean values**"
   ]
  },
  {
   "cell_type": "code",
   "execution_count": 10,
   "id": "considerable-underwear",
   "metadata": {
    "execution": {
     "iopub.execute_input": "2021-04-02T11:45:22.278581Z",
     "iopub.status.busy": "2021-04-02T11:45:22.277868Z",
     "iopub.status.idle": "2021-04-02T11:45:22.292274Z",
     "shell.execute_reply": "2021-04-02T11:45:22.291522Z"
    },
    "papermill": {
     "duration": 0.047842,
     "end_time": "2021-04-02T11:45:22.292426",
     "exception": false,
     "start_time": "2021-04-02T11:45:22.244584",
     "status": "completed"
    },
    "tags": []
   },
   "outputs": [],
   "source": [
    "for i in numeric:\n",
    "    df[i].fillna(df[i].mean(), inplace = True)"
   ]
  },
  {
   "cell_type": "code",
   "execution_count": 11,
   "id": "cooked-surprise",
   "metadata": {
    "execution": {
     "iopub.execute_input": "2021-04-02T11:45:22.452443Z",
     "iopub.status.busy": "2021-04-02T11:45:22.451711Z",
     "iopub.status.idle": "2021-04-02T11:45:22.466728Z",
     "shell.execute_reply": "2021-04-02T11:45:22.466014Z"
    },
    "papermill": {
     "duration": 0.145799,
     "end_time": "2021-04-02T11:45:22.466878",
     "exception": false,
     "start_time": "2021-04-02T11:45:22.321079",
     "status": "completed"
    },
    "tags": []
   },
   "outputs": [
    {
     "data": {
      "text/plain": [
       "date             0\n",
       "location         0\n",
       "mintemp          0\n",
       "maxtemp          0\n",
       "rainfall         0\n",
       "windgustdir      0\n",
       "windgustspeed    0\n",
       "winddir9am       0\n",
       "winddir3pm       0\n",
       "windspeed9am     0\n",
       "windspeed3pm     0\n",
       "humidity9am      0\n",
       "humidity3pm      0\n",
       "pressure9am      0\n",
       "pressure3pm      0\n",
       "temp9am          0\n",
       "temp3pm          0\n",
       "raintoday        0\n",
       "raintomorrow     0\n",
       "dtype: int64"
      ]
     },
     "execution_count": 11,
     "metadata": {},
     "output_type": "execute_result"
    }
   ],
   "source": [
    "df.isnull().sum()"
   ]
  },
  {
   "cell_type": "markdown",
   "id": "double-nelson",
   "metadata": {
    "papermill": {
     "duration": 0.028437,
     "end_time": "2021-04-02T11:45:22.524167",
     "exception": false,
     "start_time": "2021-04-02T11:45:22.495730",
     "status": "completed"
    },
    "tags": []
   },
   "source": [
    "> ## Feature Engineering"
   ]
  },
  {
   "cell_type": "markdown",
   "id": "agreed-aluminum",
   "metadata": {
    "papermill": {
     "duration": 0.028332,
     "end_time": "2021-04-02T11:45:22.582788",
     "exception": false,
     "start_time": "2021-04-02T11:45:22.554456",
     "status": "completed"
    },
    "tags": []
   },
   "source": [
    "> **Convert Date column in datetime format**"
   ]
  },
  {
   "cell_type": "code",
   "execution_count": 12,
   "id": "exterior-melbourne",
   "metadata": {
    "execution": {
     "iopub.execute_input": "2021-04-02T11:45:22.696006Z",
     "iopub.status.busy": "2021-04-02T11:45:22.694860Z",
     "iopub.status.idle": "2021-04-02T11:45:22.710390Z",
     "shell.execute_reply": "2021-04-02T11:45:22.709478Z"
    },
    "papermill": {
     "duration": 0.09703,
     "end_time": "2021-04-02T11:45:22.710553",
     "exception": false,
     "start_time": "2021-04-02T11:45:22.613523",
     "status": "completed"
    },
    "tags": []
   },
   "outputs": [],
   "source": [
    "df[\"date\"] = pd.to_datetime(df.date)"
   ]
  },
  {
   "cell_type": "code",
   "execution_count": 13,
   "id": "genetic-integer",
   "metadata": {
    "execution": {
     "iopub.execute_input": "2021-04-02T11:45:22.776021Z",
     "iopub.status.busy": "2021-04-02T11:45:22.774862Z",
     "iopub.status.idle": "2021-04-02T11:45:22.953102Z",
     "shell.execute_reply": "2021-04-02T11:45:22.953971Z"
    },
    "papermill": {
     "duration": 0.214869,
     "end_time": "2021-04-02T11:45:22.954195",
     "exception": false,
     "start_time": "2021-04-02T11:45:22.739326",
     "status": "completed"
    },
    "tags": []
   },
   "outputs": [
    {
     "name": "stdout",
     "output_type": "stream",
     "text": [
      "date unique = 3436\n",
      "location unique = 49\n",
      "windgustdir unique = 16\n",
      "winddir9am unique = 16\n",
      "winddir3pm unique = 16\n",
      "raintoday unique = 2\n",
      "raintomorrow unique = 2\n"
     ]
    }
   ],
   "source": [
    "for i in catogrical:\n",
    "    print(\"{} unique = {}\".format(i, df[i].nunique()))"
   ]
  },
  {
   "cell_type": "markdown",
   "id": "approved-exposure",
   "metadata": {
    "papermill": {
     "duration": 0.03176,
     "end_time": "2021-04-02T11:45:23.017797",
     "exception": false,
     "start_time": "2021-04-02T11:45:22.986037",
     "status": "completed"
    },
    "tags": []
   },
   "source": [
    "> **More unique values are not good for accurate prediction that's why, convert date column into three new columns**"
   ]
  },
  {
   "cell_type": "code",
   "execution_count": 14,
   "id": "digital-possibility",
   "metadata": {
    "execution": {
     "iopub.execute_input": "2021-04-02T11:45:23.083853Z",
     "iopub.status.busy": "2021-04-02T11:45:23.083156Z",
     "iopub.status.idle": "2021-04-02T11:45:23.131007Z",
     "shell.execute_reply": "2021-04-02T11:45:23.131615Z"
    },
    "papermill": {
     "duration": 0.083427,
     "end_time": "2021-04-02T11:45:23.131859",
     "exception": false,
     "start_time": "2021-04-02T11:45:23.048432",
     "status": "completed"
    },
    "tags": []
   },
   "outputs": [],
   "source": [
    "df[\"year\"] = df[\"date\"].dt.year\n",
    "df[\"day\"] = df[\"date\"].dt.day\n",
    "df[\"month\"] = df[\"date\"].dt.month"
   ]
  },
  {
   "cell_type": "code",
   "execution_count": 15,
   "id": "cheap-sally",
   "metadata": {
    "execution": {
     "iopub.execute_input": "2021-04-02T11:45:23.197349Z",
     "iopub.status.busy": "2021-04-02T11:45:23.196609Z",
     "iopub.status.idle": "2021-04-02T11:45:23.242750Z",
     "shell.execute_reply": "2021-04-02T11:45:23.242078Z"
    },
    "papermill": {
     "duration": 0.081364,
     "end_time": "2021-04-02T11:45:23.242904",
     "exception": false,
     "start_time": "2021-04-02T11:45:23.161540",
     "status": "completed"
    },
    "tags": []
   },
   "outputs": [],
   "source": [
    "df.drop([\"date\", \"location\"],axis = 1, inplace=True)"
   ]
  },
  {
   "cell_type": "markdown",
   "id": "worldwide-concept",
   "metadata": {
    "papermill": {
     "duration": 0.029423,
     "end_time": "2021-04-02T11:45:23.301878",
     "exception": false,
     "start_time": "2021-04-02T11:45:23.272455",
     "status": "completed"
    },
    "tags": []
   },
   "source": [
    "> **One Hot encoding for categorical values**"
   ]
  },
  {
   "cell_type": "code",
   "execution_count": 16,
   "id": "assumed-shoulder",
   "metadata": {
    "execution": {
     "iopub.execute_input": "2021-04-02T11:45:23.369842Z",
     "iopub.status.busy": "2021-04-02T11:45:23.368629Z",
     "iopub.status.idle": "2021-04-02T11:45:23.618148Z",
     "shell.execute_reply": "2021-04-02T11:45:23.617363Z"
    },
    "papermill": {
     "duration": 0.286599,
     "end_time": "2021-04-02T11:45:23.618325",
     "exception": false,
     "start_time": "2021-04-02T11:45:23.331726",
     "status": "completed"
    },
    "tags": []
   },
   "outputs": [],
   "source": [
    "dummies = pd.get_dummies(df[['windgustdir','winddir9am','winddir3pm','raintoday','raintomorrow']], drop_first=True)\n",
    "df1 = pd.concat([df, dummies], axis=1)\n",
    "df1.drop(['windgustdir','winddir9am','winddir3pm','raintoday','raintomorrow'], axis = 1, inplace = True)"
   ]
  },
  {
   "cell_type": "code",
   "execution_count": 17,
   "id": "purple-pharmacy",
   "metadata": {
    "execution": {
     "iopub.execute_input": "2021-04-02T11:45:23.685799Z",
     "iopub.status.busy": "2021-04-02T11:45:23.684746Z",
     "iopub.status.idle": "2021-04-02T11:45:23.688650Z",
     "shell.execute_reply": "2021-04-02T11:45:23.687979Z"
    },
    "papermill": {
     "duration": 0.040841,
     "end_time": "2021-04-02T11:45:23.688822",
     "exception": false,
     "start_time": "2021-04-02T11:45:23.647981",
     "status": "completed"
    },
    "tags": []
   },
   "outputs": [],
   "source": [
    "df1.rename(columns={\"raintoday_Yes\" : \"raintoday\", \"raintomorrow_Yes\" : \"raintomorrow\"}, inplace = True)"
   ]
  },
  {
   "cell_type": "markdown",
   "id": "guided-beach",
   "metadata": {
    "papermill": {
     "duration": 0.030841,
     "end_time": "2021-04-02T11:45:23.749595",
     "exception": false,
     "start_time": "2021-04-02T11:45:23.718754",
     "status": "completed"
    },
    "tags": []
   },
   "source": [
    "> **Split data**"
   ]
  },
  {
   "cell_type": "code",
   "execution_count": 18,
   "id": "signal-momentum",
   "metadata": {
    "execution": {
     "iopub.execute_input": "2021-04-02T11:45:23.823660Z",
     "iopub.status.busy": "2021-04-02T11:45:23.821852Z",
     "iopub.status.idle": "2021-04-02T11:45:23.829508Z",
     "shell.execute_reply": "2021-04-02T11:45:23.828892Z"
    },
    "papermill": {
     "duration": 0.047616,
     "end_time": "2021-04-02T11:45:23.829653",
     "exception": false,
     "start_time": "2021-04-02T11:45:23.782037",
     "status": "completed"
    },
    "tags": []
   },
   "outputs": [],
   "source": [
    "X = df1.iloc[:, : -1]\n",
    "y = df1.iloc[:, -1]"
   ]
  },
  {
   "cell_type": "markdown",
   "id": "bigger-dating",
   "metadata": {
    "papermill": {
     "duration": 0.029477,
     "end_time": "2021-04-02T11:45:23.889888",
     "exception": false,
     "start_time": "2021-04-02T11:45:23.860411",
     "status": "completed"
    },
    "tags": []
   },
   "source": [
    "> **Check Feature Importance** "
   ]
  },
  {
   "cell_type": "code",
   "execution_count": 19,
   "id": "recognized-settle",
   "metadata": {
    "execution": {
     "iopub.execute_input": "2021-04-02T11:45:23.961394Z",
     "iopub.status.busy": "2021-04-02T11:45:23.960617Z",
     "iopub.status.idle": "2021-04-02T11:46:00.984124Z",
     "shell.execute_reply": "2021-04-02T11:46:00.984646Z"
    },
    "papermill": {
     "duration": 37.063742,
     "end_time": "2021-04-02T11:46:00.984859",
     "exception": false,
     "start_time": "2021-04-02T11:45:23.921117",
     "status": "completed"
    },
    "tags": []
   },
   "outputs": [
    {
     "data": {
      "text/plain": [
       "ExtraTreesClassifier()"
      ]
     },
     "execution_count": 19,
     "metadata": {},
     "output_type": "execute_result"
    }
   ],
   "source": [
    "model = ExtraTreesClassifier()\n",
    "model.fit(X,y)"
   ]
  },
  {
   "cell_type": "code",
   "execution_count": 20,
   "id": "impressed-beginning",
   "metadata": {
    "execution": {
     "iopub.execute_input": "2021-04-02T11:46:01.054431Z",
     "iopub.status.busy": "2021-04-02T11:46:01.053707Z",
     "iopub.status.idle": "2021-04-02T11:46:02.395049Z",
     "shell.execute_reply": "2021-04-02T11:46:02.394424Z"
    },
    "papermill": {
     "duration": 1.379157,
     "end_time": "2021-04-02T11:46:02.395210",
     "exception": false,
     "start_time": "2021-04-02T11:46:01.016053",
     "status": "completed"
    },
    "tags": []
   },
   "outputs": [
    {
     "data": {
      "text/plain": [
       "<AxesSubplot:>"
      ]
     },
     "execution_count": 20,
     "metadata": {},
     "output_type": "execute_result"
    },
    {
     "data": {
      "image/png": "[encoded data removed]",
      "text/plain": [
       "<Figure size 720x2520 with 1 Axes>"
      ]
     },
     "metadata": {
      "needs_background": "light"
     },
     "output_type": "display_data"
    }
   ],
   "source": [
    "plt.figure(figsize=(10, 35))\n",
    "feature_rank = pd.Series(model.feature_importances_, index = X.columns)\n",
    "feature_rank.sort_values().plot(kind = \"barh\")"
   ]
  },
  {
   "cell_type": "markdown",
   "id": "legislative-david",
   "metadata": {
    "papermill": {
     "duration": 0.033226,
     "end_time": "2021-04-02T11:46:02.462384",
     "exception": false,
     "start_time": "2021-04-02T11:46:02.429158",
     "status": "completed"
    },
    "tags": []
   },
   "source": [
    "> **Select most 16 columns for prediction**"
   ]
  },
  {
   "cell_type": "code",
   "execution_count": 21,
   "id": "worst-permission",
   "metadata": {
    "execution": {
     "iopub.execute_input": "2021-04-02T11:46:02.545470Z",
     "iopub.status.busy": "2021-04-02T11:46:02.544780Z",
     "iopub.status.idle": "2021-04-02T11:46:02.549038Z",
     "shell.execute_reply": "2021-04-02T11:46:02.548452Z"
    },
    "papermill": {
     "duration": 0.053059,
     "end_time": "2021-04-02T11:46:02.549200",
     "exception": false,
     "start_time": "2021-04-02T11:46:02.496141",
     "status": "completed"
    },
    "tags": []
   },
   "outputs": [],
   "source": [
    "imp_columns = feature_rank.nlargest(16).index\n",
    "X = df1[imp_columns]"
   ]
  },
  {
   "cell_type": "markdown",
   "id": "quarterly-doctrine",
   "metadata": {
    "papermill": {
     "duration": 0.033397,
     "end_time": "2021-04-02T11:46:02.616870",
     "exception": false,
     "start_time": "2021-04-02T11:46:02.583473",
     "status": "completed"
    },
    "tags": []
   },
   "source": [
    "> ## Model Building"
   ]
  },
  {
   "cell_type": "code",
   "execution_count": 22,
   "id": "scientific-brush",
   "metadata": {
    "execution": {
     "iopub.execute_input": "2021-04-02T11:46:02.694867Z",
     "iopub.status.busy": "2021-04-02T11:46:02.694086Z",
     "iopub.status.idle": "2021-04-02T11:46:02.767870Z",
     "shell.execute_reply": "2021-04-02T11:46:02.767083Z"
    },
    "papermill": {
     "duration": 0.117073,
     "end_time": "2021-04-02T11:46:02.768028",
     "exception": false,
     "start_time": "2021-04-02T11:46:02.650955",
     "status": "completed"
    },
    "tags": []
   },
   "outputs": [
    {
     "data": {
      "text/plain": [
       "KNeighborsClassifier(n_neighbors=10)"
      ]
     },
     "execution_count": 22,
     "metadata": {},
     "output_type": "execute_result"
    }
   ],
   "source": [
    "X_train, X_test, y_train, y_test = train_test_split(X, y, test_size = 0.2)\n",
    "knn = KNeighborsClassifier(n_neighbors = 10)\n",
    "knn.fit(X_train, y_train)"
   ]
  },
  {
   "cell_type": "markdown",
   "id": "afraid-decade",
   "metadata": {
    "papermill": {
     "duration": 0.033544,
     "end_time": "2021-04-02T11:46:02.836462",
     "exception": false,
     "start_time": "2021-04-02T11:46:02.802918",
     "status": "completed"
    },
    "tags": []
   },
   "source": [
    "> ## Check Accuracy"
   ]
  },
  {
   "cell_type": "code",
   "execution_count": 23,
   "id": "right-metallic",
   "metadata": {
    "execution": {
     "iopub.execute_input": "2021-04-02T11:46:02.915094Z",
     "iopub.status.busy": "2021-04-02T11:46:02.914291Z",
     "iopub.status.idle": "2021-04-02T11:47:11.027565Z",
     "shell.execute_reply": "2021-04-02T11:47:11.028120Z"
    },
    "papermill": {
     "duration": 68.157111,
     "end_time": "2021-04-02T11:47:11.028318",
     "exception": false,
     "start_time": "2021-04-02T11:46:02.871207",
     "status": "completed"
    },
    "tags": []
   },
   "outputs": [
    {
     "data": {
      "text/plain": [
       "0.8418121820431734"
      ]
     },
     "execution_count": 23,
     "metadata": {},
     "output_type": "execute_result"
    }
   ],
   "source": [
    "predict = knn.predict(X_test)\n",
    "from sklearn.metrics import accuracy_score\n",
    "acc = accuracy_score(y_test, predict)\n",
    "acc"
   ]
  }
 ],
 "metadata": {
  "kernelspec": {
   "display_name": "Python 3",
   "language": "python",
   "name": "python3"
  },
  "language_info": {
   "codemirror_mode": {
    "name": "ipython",
    "version": 3
   },
   "file_extension": ".py",
   "mimetype": "text/x-python",
   "name": "python",
   "nbconvert_exporter": "python",
   "pygments_lexer": "ipython3",
   "version": "3.7.9"
  },
  "papermill": {
   "default_parameters": {},
   "duration": 121.024649,
   "end_time": "2021-04-02T11:47:11.875170",
   "environment_variables": {},
   "exception": null,
   "input_path": "__notebook__.ipynb",
   "output_path": "__notebook__.ipynb",
   "parameters": {},
   "start_time": "2021-04-02T11:45:10.850521",
   "version": "2.3.2"
  }
 },
 "nbformat": 4,
 "nbformat_minor": 5
}
